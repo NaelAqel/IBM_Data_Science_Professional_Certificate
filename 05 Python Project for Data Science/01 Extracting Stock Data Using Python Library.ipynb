{
    "cells": [
        {
            "metadata": {},
            "cell_type": "markdown",
            "source": "<center>\n    <img src=\"https://s3-api.us-geo.objectstorage.softlayer.net/cf-courses-data/CognitiveClass/Logos/organization_logo/organization_logo.png\" width=\"300\" alt=\"cognitiveclass.ai logo\"  />\n</center>\n"
        },
        {
            "metadata": {},
            "cell_type": "markdown",
            "source": "<h1>Extracting Stock Data Using a Python Library</h1>\n"
        },
        {
            "metadata": {},
            "cell_type": "markdown",
            "source": "A company's stock share is a piece of the company more precisely:\n\n<p><b>A stock (also known as equity) is a security that represents the ownership\u00a0of a fraction of a\u00a0corporation. This\nentitles the owner of the stock to a proportion of the corporation's\u00a0assets\u00a0and profits equal to how much stock they own.\u00a0Units of stock are called \"shares.\" [1]</p></b>\n\nAn investor can buy a stock and sell it later. If the stock price increases, the investor profits, If it decreases,the investor with incur a loss.\u00a0\u00a0Determining the stock price is complex; it depends on the number of outstanding shares, the size of the company's future profits, and much more. People trade stocks throughout the day the stock ticker\u00a0is a report of the price of a certain stock, updated continuously throughout the trading session by the various\u00a0stock\u00a0market exchanges.\n\n<p>You are a data scientist working for a hedge fund; it's your job to determine any suspicious stock activity. In this lab you will extract stock data using a Python library. We will use the <coode>yfinance</code> library, it allows us to extract data for stocks returning data in a pandas dataframe. You will use the lab to extract.</p>\n"
        },
        {
            "metadata": {},
            "cell_type": "markdown",
            "source": "<h2>Table of Contents</h2>\n<div class=\"alert alert-block alert-info\" style=\"margin-top: 20px\">\n    <ul>\n        <li>Using yfinance to Extract Stock Info</li>\n        <li>Using yfinance to Extract Historical Share Price Data</li>\n        <li>Using yfinance to Extract Historical Dividends Data</li>\n        <li>Exercise</li>\n    </ul>\n<p>\n    Estimated Time Needed: <strong>30 min</strong></p>\n</div>\n\n<hr>\n"
        },
        {
            "metadata": {},
            "cell_type": "code",
            "source": "!pip install yfinance\n#!pip install pandas",
            "execution_count": 1,
            "outputs": [
                {
                    "output_type": "stream",
                    "text": "Collecting yfinance\n  Downloading yfinance-0.1.66-py2.py3-none-any.whl (25 kB)\nRequirement already satisfied: pandas>=0.24 in /opt/conda/envs/Python-3.8-main/lib/python3.8/site-packages (from yfinance) (1.2.4)\nRequirement already satisfied: lxml>=4.5.1 in /opt/conda/envs/Python-3.8-main/lib/python3.8/site-packages (from yfinance) (4.6.3)\nRequirement already satisfied: numpy>=1.15 in /opt/conda/envs/Python-3.8-main/lib/python3.8/site-packages (from yfinance) (1.19.2)\nCollecting multitasking>=0.0.7\n  Downloading multitasking-0.0.10.tar.gz (8.2 kB)\nRequirement already satisfied: requests>=2.20 in /opt/conda/envs/Python-3.8-main/lib/python3.8/site-packages (from yfinance) (2.25.1)\nRequirement already satisfied: python-dateutil>=2.7.3 in /opt/conda/envs/Python-3.8-main/lib/python3.8/site-packages (from pandas>=0.24->yfinance) (2.8.1)\nRequirement already satisfied: pytz>=2017.3 in /opt/conda/envs/Python-3.8-main/lib/python3.8/site-packages (from pandas>=0.24->yfinance) (2021.1)\nRequirement already satisfied: six>=1.5 in /opt/conda/envs/Python-3.8-main/lib/python3.8/site-packages (from python-dateutil>=2.7.3->pandas>=0.24->yfinance) (1.15.0)\nRequirement already satisfied: chardet<5,>=3.0.2 in /opt/conda/envs/Python-3.8-main/lib/python3.8/site-packages (from requests>=2.20->yfinance) (3.0.4)\nRequirement already satisfied: certifi>=2017.4.17 in /opt/conda/envs/Python-3.8-main/lib/python3.8/site-packages (from requests>=2.20->yfinance) (2021.10.8)\nRequirement already satisfied: urllib3<1.27,>=1.21.1 in /opt/conda/envs/Python-3.8-main/lib/python3.8/site-packages (from requests>=2.20->yfinance) (1.26.6)\nRequirement already satisfied: idna<3,>=2.5 in /opt/conda/envs/Python-3.8-main/lib/python3.8/site-packages (from requests>=2.20->yfinance) (2.8)\nBuilding wheels for collected packages: multitasking\n  Building wheel for multitasking (setup.py) ... \u001b[?25ldone\n\u001b[?25h  Created wheel for multitasking: filename=multitasking-0.0.10-py3-none-any.whl size=8487 sha256=22b414dd3e76aba96c1e5ba381b5f107daf1461d9d97a2273e8b8017af566e67\n  Stored in directory: /tmp/wsuser/.cache/pip/wheels/21/c9/66/b41c847de65c7985db52ec21d59996841598b8b0e93f2b9500\nSuccessfully built multitasking\nInstalling collected packages: multitasking, yfinance\nSuccessfully installed multitasking-0.0.10 yfinance-0.1.66\n",
                    "name": "stdout"
                }
            ]
        },
        {
            "metadata": {},
            "cell_type": "code",
            "source": "import yfinance as yf\nimport pandas as pd",
            "execution_count": 2,
            "outputs": []
        },
        {
            "metadata": {},
            "cell_type": "markdown",
            "source": "## Using the yfinance Library to Extract Stock Data\n"
        },
        {
            "metadata": {},
            "cell_type": "markdown",
            "source": "Using the `Ticker` module we can create an object that will allow us to access functions to extract data. To do this we need to provide the ticker symbol for the stock, here the company is Apple and the ticker symbol is `AAPL`.\n"
        },
        {
            "metadata": {},
            "cell_type": "code",
            "source": "apple = yf.Ticker(\"AAPL\")",
            "execution_count": 3,
            "outputs": []
        },
        {
            "metadata": {},
            "cell_type": "markdown",
            "source": "Now we can access functions and variables to extract the type of data we need. You can view them and what they represent here [https://aroussi.com/post/python-yahoo-finance](https://aroussi.com/post/python-yahoo-finance?utm_medium=Exinfluencer&utm_source=Exinfluencer&utm_content=000026UJ&utm_term=10006555&utm_id=NA-SkillsNetwork-Channel-SkillsNetworkCoursesIBMDeveloperSkillsNetworkPY0220ENSkillsNetwork23455606-2021-01-01).\n"
        },
        {
            "metadata": {},
            "cell_type": "markdown",
            "source": "### Stock Info\n"
        },
        {
            "metadata": {},
            "cell_type": "markdown",
            "source": "Using the attribute  <code>info</code> we can extract information about the stock as a Python dictionary.\n"
        },
        {
            "metadata": {},
            "cell_type": "code",
            "source": "apple_info=apple.info\napple_info",
            "execution_count": 4,
            "outputs": [
                {
                    "output_type": "execute_result",
                    "execution_count": 4,
                    "data": {
                        "text/plain": "{'zip': '95014',\n 'sector': 'Technology',\n 'fullTimeEmployees': 154000,\n 'longBusinessSummary': 'Apple Inc. designs, manufactures, and markets smartphones, personal computers, tablets, wearables, and accessories worldwide. It also sells various related services. In addition, the company offers iPhone, a line of smartphones; Mac, a line of personal computers; iPad, a line of multi-purpose tablets; AirPods Max, an over-ear wireless headphone; and wearables, home, and accessories comprising AirPods, Apple TV, Apple Watch, Beats products, HomePod, and iPod touch. Further, it provides AppleCare support services; cloud services store services; and operates various platforms, including the App Store that allow customers to discover and download applications and digital content, such as books, music, video, games, and podcasts. Additionally, the company offers various services, such as Apple Arcade, a game subscription service; Apple Music, which offers users a curated listening experience with on-demand radio stations; Apple News+, a subscription news and magazine service; Apple TV+, which offers exclusive original content; Apple Card, a co-branded credit card; and Apple Pay, a cashless payment service, as well as licenses its intellectual property. The company serves consumers, and small and mid-sized businesses; and the education, enterprise, and government markets. It distributes third-party applications for its products through the App Store. The company also sells its products through its retail and online stores, and direct sales force; and third-party cellular network carriers, wholesalers, retailers, and resellers. Apple Inc. was incorporated in 1977 and is headquartered in Cupertino, California.',\n 'city': 'Cupertino',\n 'phone': '408 996 1010',\n 'state': 'CA',\n 'country': 'United States',\n 'companyOfficers': [],\n 'website': 'http://www.apple.com',\n 'maxAge': 1,\n 'address1': 'One Apple Park Way',\n 'industry': 'Consumer Electronics',\n 'ebitdaMargins': 0.32867,\n 'profitMargins': 0.25882,\n 'grossMargins': 0.41779,\n 'operatingCashflow': 104037998592,\n 'revenueGrowth': 0.288,\n 'operatingMargins': 0.29782,\n 'ebitda': 120233000960,\n 'targetLowPrice': 128.01,\n 'recommendationKey': 'buy',\n 'grossProfits': 152836000000,\n 'freeCashflow': 73295003648,\n 'targetMedianPrice': 170,\n 'currentPrice': 156.2,\n 'earningsGrowth': 0.662,\n 'currentRatio': 1.075,\n 'returnOnAssets': 0.20179,\n 'numberOfAnalystOpinions': 40,\n 'targetMeanPrice': 168.45,\n 'debtToEquity': 216.392,\n 'returnOnEquity': 1.47443,\n 'targetHighPrice': 190,\n 'totalCash': 62639001600,\n 'totalDebt': 136521998336,\n 'totalRevenue': 365817004032,\n 'totalCashPerShare': 3.818,\n 'financialCurrency': 'USD',\n 'revenuePerShare': 21.904,\n 'quickRatio': 0.91,\n 'recommendationMean': 1.9,\n 'exchange': 'NMS',\n 'shortName': 'Apple Inc.',\n 'longName': 'Apple Inc.',\n 'exchangeTimezoneName': 'America/New_York',\n 'exchangeTimezoneShortName': 'EST',\n 'isEsgPopulated': False,\n 'gmtOffSetMilliseconds': '-18000000',\n 'quoteType': 'EQUITY',\n 'symbol': 'AAPL',\n 'messageBoardId': 'finmb_24937',\n 'market': 'us_market',\n 'annualHoldingsTurnover': None,\n 'enterpriseToRevenue': 7.086,\n 'beta3Year': None,\n 'enterpriseToEbitda': 21.559,\n '52WeekChange': 0.29374576,\n 'morningStarRiskRating': None,\n 'forwardEps': 6.15,\n 'revenueQuarterlyGrowth': None,\n 'sharesOutstanding': 16406400000,\n 'fundInceptionDate': None,\n 'annualReportExpenseRatio': None,\n 'totalAssets': None,\n 'bookValue': 3.841,\n 'sharesShort': 100495541,\n 'sharesPercentSharesOut': 0.0061000003,\n 'fundFamily': None,\n 'lastFiscalYearEnd': 1632528000,\n 'heldPercentInstitutions': 0.58682996,\n 'netIncomeToCommon': 94679998464,\n 'trailingEps': 5.61,\n 'lastDividendValue': 0.22,\n 'SandP52WeekChange': 0.3090006,\n 'priceToBook': 40.666492,\n 'heldPercentInsiders': 0.00071000005,\n 'nextFiscalYearEnd': 1695600000,\n 'yield': None,\n 'mostRecentQuarter': 1632528000,\n 'shortRatio': 1.34,\n 'sharesShortPreviousMonthDate': 1632960000,\n 'floatShares': 16389334347,\n 'beta': 1.205714,\n 'enterpriseValue': 2592100843520,\n 'priceHint': 2,\n 'threeYearAverageReturn': None,\n 'lastSplitDate': 1598832000,\n 'lastSplitFactor': '4:1',\n 'legalType': None,\n 'lastDividendDate': 1636070400,\n 'morningStarOverallRating': None,\n 'earningsQuarterlyGrowth': 0.622,\n 'priceToSalesTrailing12Months': 7.0053596,\n 'dateShortInterest': 1635465600,\n 'pegRatio': 1.7,\n 'ytdReturn': None,\n 'forwardPE': 25.398373,\n 'lastCapGain': None,\n 'shortPercentOfFloat': 0.0061000003,\n 'sharesShortPriorMonth': 101107412,\n 'impliedSharesOutstanding': None,\n 'category': None,\n 'fiveYearAverageReturn': None,\n 'previousClose': 153.49,\n 'regularMarketOpen': 153.71,\n 'twoHundredDayAverage': 141.62936,\n 'trailingAnnualDividendYield': 0.00553782,\n 'payoutRatio': 0.1515,\n 'volume24Hr': None,\n 'regularMarketDayHigh': 156.2,\n 'navPrice': None,\n 'averageDailyVolume10Day': 61069212,\n 'regularMarketPreviousClose': 153.49,\n 'fiftyDayAverage': 147.09445,\n 'trailingAnnualDividendRate': 0.85,\n 'open': 153.71,\n 'toCurrency': None,\n 'averageVolume10days': 61069212,\n 'expireDate': None,\n 'algorithm': None,\n 'dividendRate': 0.88,\n 'exDividendDate': 1636070400,\n 'circulatingSupply': None,\n 'startDate': None,\n 'regularMarketDayLow': 153.06,\n 'currency': 'USD',\n 'trailingPE': 27.843136,\n 'regularMarketVolume': 51911958,\n 'lastMarket': None,\n 'maxSupply': None,\n 'openInterest': None,\n 'marketCap': 2562679635968,\n 'volumeAllCurrencies': None,\n 'strikePrice': None,\n 'averageVolume': 74732446,\n 'dayLow': 153.06,\n 'ask': 154.92,\n 'askSize': 1000,\n 'volume': 51911958,\n 'fiftyTwoWeekHigh': 157.26,\n 'fromCurrency': None,\n 'fiveYearAvgDividendYield': 1.22,\n 'fiftyTwoWeekLow': 112.59,\n 'bid': 154.91,\n 'tradeable': False,\n 'dividendYield': 0.0057,\n 'bidSize': 1200,\n 'dayHigh': 156.2,\n 'regularMarketPrice': 156.2,\n 'preMarketPrice': 153.64,\n 'logo_url': 'https://logo.clearbit.com/apple.com'}"
                    },
                    "metadata": {}
                }
            ]
        },
        {
            "metadata": {},
            "cell_type": "markdown",
            "source": "We can get the <code>'country'</code> using the key country\n"
        },
        {
            "metadata": {},
            "cell_type": "code",
            "source": "apple_info['country']",
            "execution_count": 5,
            "outputs": [
                {
                    "output_type": "execute_result",
                    "execution_count": 5,
                    "data": {
                        "text/plain": "'United States'"
                    },
                    "metadata": {}
                }
            ]
        },
        {
            "metadata": {},
            "cell_type": "markdown",
            "source": "### Extracting Share Price\n"
        },
        {
            "metadata": {},
            "cell_type": "markdown",
            "source": "A share is the single smallest part of a company's stock  that you can buy, the prices of these shares fluctuate over time. Using the <code>history()</code> method we can get the share price of the stock over a certain period of time. Using the `period` parameter we can set how far back from the present to get data. The options for `period` are 1 day (1d), 5d, 1 month (1mo) , 3mo, 6mo, 1 year (1y), 2y, 5y, 10y, ytd, and max.\n"
        },
        {
            "metadata": {},
            "cell_type": "code",
            "source": "apple_share_price_data = apple.history(period=\"max\")",
            "execution_count": 6,
            "outputs": []
        },
        {
            "metadata": {},
            "cell_type": "markdown",
            "source": "The format that the data is returned in is a Pandas DataFrame. With the `Date` as the index the share `Open`, `High`, `Low`, `Close`, `Volume`, and `Stock Splits` are given for each day.\n"
        },
        {
            "metadata": {},
            "cell_type": "code",
            "source": "apple_share_price_data.head()",
            "execution_count": 7,
            "outputs": [
                {
                    "output_type": "execute_result",
                    "execution_count": 7,
                    "data": {
                        "text/plain": "                Open      High       Low     Close     Volume  Dividends  \\\nDate                                                                       \n1980-12-12  0.100453  0.100890  0.100453  0.100453  469033600        0.0   \n1980-12-15  0.095649  0.095649  0.095213  0.095213  175884800        0.0   \n1980-12-16  0.088661  0.088661  0.088224  0.088224  105728000        0.0   \n1980-12-17  0.090408  0.090845  0.090408  0.090408   86441600        0.0   \n1980-12-18  0.093029  0.093466  0.093029  0.093029   73449600        0.0   \n\n            Stock Splits  \nDate                      \n1980-12-12           0.0  \n1980-12-15           0.0  \n1980-12-16           0.0  \n1980-12-17           0.0  \n1980-12-18           0.0  ",
                        "text/html": "<div>\n<style scoped>\n    .dataframe tbody tr th:only-of-type {\n        vertical-align: middle;\n    }\n\n    .dataframe tbody tr th {\n        vertical-align: top;\n    }\n\n    .dataframe thead th {\n        text-align: right;\n    }\n</style>\n<table border=\"1\" class=\"dataframe\">\n  <thead>\n    <tr style=\"text-align: right;\">\n      <th></th>\n      <th>Open</th>\n      <th>High</th>\n      <th>Low</th>\n      <th>Close</th>\n      <th>Volume</th>\n      <th>Dividends</th>\n      <th>Stock Splits</th>\n    </tr>\n    <tr>\n      <th>Date</th>\n      <th></th>\n      <th></th>\n      <th></th>\n      <th></th>\n      <th></th>\n      <th></th>\n      <th></th>\n    </tr>\n  </thead>\n  <tbody>\n    <tr>\n      <th>1980-12-12</th>\n      <td>0.100453</td>\n      <td>0.100890</td>\n      <td>0.100453</td>\n      <td>0.100453</td>\n      <td>469033600</td>\n      <td>0.0</td>\n      <td>0.0</td>\n    </tr>\n    <tr>\n      <th>1980-12-15</th>\n      <td>0.095649</td>\n      <td>0.095649</td>\n      <td>0.095213</td>\n      <td>0.095213</td>\n      <td>175884800</td>\n      <td>0.0</td>\n      <td>0.0</td>\n    </tr>\n    <tr>\n      <th>1980-12-16</th>\n      <td>0.088661</td>\n      <td>0.088661</td>\n      <td>0.088224</td>\n      <td>0.088224</td>\n      <td>105728000</td>\n      <td>0.0</td>\n      <td>0.0</td>\n    </tr>\n    <tr>\n      <th>1980-12-17</th>\n      <td>0.090408</td>\n      <td>0.090845</td>\n      <td>0.090408</td>\n      <td>0.090408</td>\n      <td>86441600</td>\n      <td>0.0</td>\n      <td>0.0</td>\n    </tr>\n    <tr>\n      <th>1980-12-18</th>\n      <td>0.093029</td>\n      <td>0.093466</td>\n      <td>0.093029</td>\n      <td>0.093029</td>\n      <td>73449600</td>\n      <td>0.0</td>\n      <td>0.0</td>\n    </tr>\n  </tbody>\n</table>\n</div>"
                    },
                    "metadata": {}
                }
            ]
        },
        {
            "metadata": {},
            "cell_type": "markdown",
            "source": "We can reset the index of the DataFrame with the `reset_index` function. We also set the `inplace` paramter to `True` so the change takes place to the DataFrame itself.\n"
        },
        {
            "metadata": {},
            "cell_type": "code",
            "source": "apple_share_price_data.reset_index(inplace=True)",
            "execution_count": 8,
            "outputs": []
        },
        {
            "metadata": {},
            "cell_type": "markdown",
            "source": "We can plot the `Open` price against the `Date`:\n"
        },
        {
            "metadata": {},
            "cell_type": "code",
            "source": "apple_share_price_data.plot(x=\"Date\", y=\"Open\")",
            "execution_count": 9,
            "outputs": [
                {
                    "output_type": "execute_result",
                    "execution_count": 9,
                    "data": {
                        "text/plain": "<AxesSubplot:xlabel='Date'>"
                    },
                    "metadata": {}
                },
                {
                    "output_type": "display_data",
                    "data": {
                        "text/plain": "<Figure size 432x288 with 1 Axes>",
                        "image/png": "[encoded data removed]"
                    },
                    "metadata": {
                        "needs_background": "light"
                    }
                }
            ]
        },
        {
            "metadata": {},
            "cell_type": "markdown",
            "source": "### Extracting Dividends\n"
        },
        {
            "metadata": {},
            "cell_type": "markdown",
            "source": "Dividends are the distribution of a companys profits to shareholders. In this case they are defined as an amount of money returned per share an investor owns. Using the variable `dividends` we can get a dataframe of the data. The period of the data is given by the period defined in the 'history\\` function.\n"
        },
        {
            "metadata": {},
            "cell_type": "code",
            "source": "apple.dividends",
            "execution_count": 10,
            "outputs": [
                {
                    "output_type": "execute_result",
                    "execution_count": 10,
                    "data": {
                        "text/plain": "Date\n1987-05-11    0.000536\n1987-08-10    0.000536\n1987-11-17    0.000714\n1988-02-12    0.000714\n1988-05-16    0.000714\n                ...   \n2020-11-06    0.205000\n2021-02-05    0.205000\n2021-05-07    0.220000\n2021-08-06    0.220000\n2021-11-05    0.220000\nName: Dividends, Length: 73, dtype: float64"
                    },
                    "metadata": {}
                }
            ]
        },
        {
            "metadata": {},
            "cell_type": "markdown",
            "source": "We can plot the dividends overtime:\n"
        },
        {
            "metadata": {},
            "cell_type": "code",
            "source": "apple.dividends.plot()",
            "execution_count": 11,
            "outputs": [
                {
                    "output_type": "execute_result",
                    "execution_count": 11,
                    "data": {
                        "text/plain": "<AxesSubplot:xlabel='Date'>"
                    },
                    "metadata": {}
                },
                {
                    "output_type": "display_data",
                    "data": {
                        "text/plain": "<Figure size 432x288 with 1 Axes>",
                        "image/png": "[encoded data removed]"
                    },
                    "metadata": {
                        "needs_background": "light"
                    }
                }
            ]
        },
        {
            "metadata": {},
            "cell_type": "markdown",
            "source": "## Exercise\n"
        },
        {
            "metadata": {},
            "cell_type": "markdown",
            "source": "Now using the `Ticker` module create an object for AMD (Advanced Micro Devices) with the ticker symbol is `AMD` called; name the object <code>amd</code>.\n"
        },
        {
            "metadata": {},
            "cell_type": "code",
            "source": "amd = yf.Ticker(\"AMD\")",
            "execution_count": 12,
            "outputs": []
        },
        {
            "metadata": {},
            "cell_type": "markdown",
            "source": "<b>Question 1</b> Use the key  <code>'country'</code> to find the country the stock belongs to, remember it as it will be a quiz question.\n"
        },
        {
            "metadata": {},
            "cell_type": "code",
            "source": "amd_info = amd.info\namd_info['country']",
            "execution_count": 13,
            "outputs": [
                {
                    "output_type": "execute_result",
                    "execution_count": 13,
                    "data": {
                        "text/plain": "'United States'"
                    },
                    "metadata": {}
                }
            ]
        },
        {
            "metadata": {},
            "cell_type": "markdown",
            "source": "<b>Question 2</b> Use the key  <code>'sector'</code> to find the sector the stock belongs to, remember it as it will be a quiz question.\n"
        },
        {
            "metadata": {},
            "cell_type": "code",
            "source": "amd_info['sector']",
            "execution_count": 14,
            "outputs": [
                {
                    "output_type": "execute_result",
                    "execution_count": 14,
                    "data": {
                        "text/plain": "'Technology'"
                    },
                    "metadata": {}
                }
            ]
        },
        {
            "metadata": {},
            "cell_type": "markdown",
            "source": "<b>Question 3</b> Obtain stock data for AMD using the `history` function, set the `period` to max. Find the `Volume` traded on the first day (first row).\n"
        },
        {
            "metadata": {},
            "cell_type": "code",
            "source": "amd_share_price_data = amd.history(period=\"max\")\namd_share_price_data.head(1)",
            "execution_count": 15,
            "outputs": [
                {
                    "output_type": "execute_result",
                    "execution_count": 15,
                    "data": {
                        "text/plain": "            Open      High    Low     Close  Volume  Dividends  Stock Splits\nDate                                                                        \n1980-03-17   0.0  3.302083  3.125  3.145833  219600          0           0.0",
                        "text/html": "<div>\n<style scoped>\n    .dataframe tbody tr th:only-of-type {\n        vertical-align: middle;\n    }\n\n    .dataframe tbody tr th {\n        vertical-align: top;\n    }\n\n    .dataframe thead th {\n        text-align: right;\n    }\n</style>\n<table border=\"1\" class=\"dataframe\">\n  <thead>\n    <tr style=\"text-align: right;\">\n      <th></th>\n      <th>Open</th>\n      <th>High</th>\n      <th>Low</th>\n      <th>Close</th>\n      <th>Volume</th>\n      <th>Dividends</th>\n      <th>Stock Splits</th>\n    </tr>\n    <tr>\n      <th>Date</th>\n      <th></th>\n      <th></th>\n      <th></th>\n      <th></th>\n      <th></th>\n      <th></th>\n      <th></th>\n    </tr>\n  </thead>\n  <tbody>\n    <tr>\n      <th>1980-03-17</th>\n      <td>0.0</td>\n      <td>3.302083</td>\n      <td>3.125</td>\n      <td>3.145833</td>\n      <td>219600</td>\n      <td>0</td>\n      <td>0.0</td>\n    </tr>\n  </tbody>\n</table>\n</div>"
                    },
                    "metadata": {}
                }
            ]
        },
        {
            "metadata": {},
            "cell_type": "markdown",
            "source": "<h2>About the Authors:</h2> \n\n<a href=\"https://www.linkedin.com/in/joseph-s-50398b136/?utm_medium=Exinfluencer&utm_source=Exinfluencer&utm_content=000026UJ&utm_term=10006555&utm_id=NA-SkillsNetwork-Channel-SkillsNetworkCoursesIBMDeveloperSkillsNetworkPY0220ENSkillsNetwork23455606-2021-01-01\">Joseph Santarcangelo</a> has a PhD in Electrical Engineering, his research focused on using machine learning, signal processing, and computer vision to determine how videos impact human cognition. Joseph has been working for IBM since he completed his PhD.\n\nAzim Hirjani\n"
        },
        {
            "metadata": {},
            "cell_type": "markdown",
            "source": "## Change Log\n\n| Date (YYYY-MM-DD) | Version | Changed By    | Change Description        |\n| ----------------- | ------- | ------------- | ------------------------- |\n| 2020-11-10        | 1.1     | Malika Singla | Deleted the Optional part |\n| 2020-08-27        | 1.0     | Malika Singla | Added lab to GitLab       |\n\n<hr>\n\n## <h3 align=\"center\"> \u00a9 IBM Corporation 2020. All rights reserved. <h3/>\n\n<p>\n"
        }
    ],
    "metadata": {
        "kernelspec": {
            "name": "python3",
            "display_name": "Python 3.8",
            "language": "python"
        },
        "language_info": {
            "name": "python",
            "version": "3.8.12",
            "mimetype": "text/x-python",
            "codemirror_mode": {
                "name": "ipython",
                "version": 3
            },
            "pygments_lexer": "ipython3",
            "nbconvert_exporter": "python",
            "file_extension": ".py"
        }
    },
    "nbformat": 4,
    "nbformat_minor": 4
}